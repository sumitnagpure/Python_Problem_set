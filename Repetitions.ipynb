{
 "cells": [
  {
   "cell_type": "markdown",
   "id": "6a60c981",
   "metadata": {},
   "source": [
    "### Repetitions"
   ]
  },
  {
   "cell_type": "markdown",
   "id": "77cbf60a",
   "metadata": {},
   "source": [
    "You are given a DNA sequence: a string consisting of characters A, C, G, and T. Your task is to find the longest repetition in the sequence. This is a maximum-length substring containing only one type of character.\n",
    "Input\n",
    "The only input line contains a string of n characters.\n",
    "Output\n",
    "Print one integer: the length of the longest repetition.\n",
    "\n",
    "Example\n",
    "\n",
    "Input:\n",
    "\n",
    "ATTCGGGA\n",
    "\n",
    "Output:\n",
    "\n",
    "3"
   ]
  },
  {
   "cell_type": "code",
   "execution_count": 38,
   "id": "34671cbb",
   "metadata": {},
   "outputs": [
    {
     "name": "stdout",
     "output_type": "stream",
     "text": [
      "A 1\n",
      "T 1\n",
      "T 2\n",
      "C 1\n",
      "G 1\n",
      "G 2\n",
      "G 3\n",
      "A 1\n"
     ]
    },
    {
     "data": {
      "text/plain": [
       "3"
      ]
     },
     "execution_count": 38,
     "metadata": {},
     "output_type": "execute_result"
    }
   ],
   "source": [
    "#I am thinking of a dict based approach storing with A,T,C,G as 'key' and count as 'value'.\n",
    "#i/p= ATTCGGGA\n",
    "#o/p= 3\n",
    "\n",
    "frequency={'A':0,'T':0,'C':0,'G':0}\n",
    "# dna=input()\n",
    "\n",
    "def max_freq(a):\n",
    "    # a=input()\n",
    "    count=0\n",
    "    for i in range(len(a)):\n",
    "        if a[i-1]!=a[i]: count=1\n",
    "        if a[i]==a[i-1]:\n",
    "            count+=1\n",
    "        print(a[i],count)\n",
    "        frequency.update({a[i]:max(frequency.get(a[i]),count)})\n",
    "    return max(frequency.values())\n",
    "\n",
    "max_freq('ATTCGGGA')"
   ]
  },
  {
   "cell_type": "code",
   "execution_count": null,
   "id": "318c11cc",
   "metadata": {},
   "outputs": [],
   "source": []
  }
 ],
 "metadata": {
  "kernelspec": {
   "display_name": "Python 3",
   "language": "python",
   "name": "python3"
  },
  "language_info": {
   "codemirror_mode": {
    "name": "ipython",
    "version": 3
   },
   "file_extension": ".py",
   "mimetype": "text/x-python",
   "name": "python",
   "nbconvert_exporter": "python",
   "pygments_lexer": "ipython3",
   "version": "3.13.1"
  }
 },
 "nbformat": 4,
 "nbformat_minor": 5
}
