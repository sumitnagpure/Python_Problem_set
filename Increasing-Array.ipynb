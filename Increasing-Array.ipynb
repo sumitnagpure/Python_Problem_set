{
 "cells": [
  {
   "cell_type": "markdown",
   "id": "b6285eca",
   "metadata": {},
   "source": [
    "### Increasing Array"
   ]
  },
  {
   "cell_type": "markdown",
   "id": "f9b6f34f",
   "metadata": {},
   "source": [
    "You are given an array of n integers. You want to modify the array so that it is increasing, i.e., every element is at least as large as the previous element. On each move, you may increase the value of any element by one. What is the minimum number of moves required?\n",
    "\n",
    "### Input\n",
    "\n",
    "The first input line contains an integer n: the size of the array.\n",
    "\n",
    "Then, the second line contains n integers x_1,x_2,....,x_n: the contents of the array.\n",
    "\n",
    "#### Output\n",
    "\n",
    "Print the minimum number of moves.\n",
    "\n",
    "\n",
    "#### Example\n",
    "\n",
    " Input:\n",
    "\n",
    "5\n",
    "\n",
    "3 2 5 1 7\n",
    "\n",
    "\n",
    " Output:\n",
    "\n",
    "5"
   ]
  },
  {
   "cell_type": "code",
   "execution_count": 59,
   "id": "aac8674c",
   "metadata": {},
   "outputs": [
    {
     "data": {
      "text/plain": [
       "1"
      ]
     },
     "execution_count": 59,
     "metadata": {},
     "output_type": "execute_result"
    }
   ],
   "source": [
    "# n=int(input()) #the length of array\n",
    "# a=list(map(int,input().split())) #contents of array\n",
    "\n",
    "def count_(arr, N):\n",
    "    count=0\n",
    "    for i in range(N-1):\n",
    "        if arr[i]>arr[i+1]:\n",
    "            count+=(arr[i]-arr[i+1])\n",
    "            arr[i+1]=arr[i]\n",
    "        return count\n",
    "\n",
    "n=5\n",
    "a=list(map(int,\"3 2 5 1 7\".split()))\n",
    "\n",
    "count_(a,n)"
   ]
  },
  {
   "cell_type": "code",
   "execution_count": null,
   "id": "80c59629",
   "metadata": {},
   "outputs": [],
   "source": []
  }
 ],
 "metadata": {
  "kernelspec": {
   "display_name": "Python 3",
   "language": "python",
   "name": "python3"
  },
  "language_info": {
   "codemirror_mode": {
    "name": "ipython",
    "version": 3
   },
   "file_extension": ".py",
   "mimetype": "text/x-python",
   "name": "python",
   "nbconvert_exporter": "python",
   "pygments_lexer": "ipython3",
   "version": "3.13.1"
  }
 },
 "nbformat": 4,
 "nbformat_minor": 5
}
