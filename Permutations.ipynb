{
 "cells": [
  {
   "cell_type": "markdown",
   "id": "3c28880c",
   "metadata": {},
   "source": [
    "## Permutations"
   ]
  },
  {
   "cell_type": "markdown",
   "id": "92e4ca54",
   "metadata": {},
   "source": [
    "A permutation of integers 1,2,\\ldots,n is called beautiful if there are no adjacent elements whose difference is 1.\n",
    "Given n, construct a beautiful permutation if such a permutation exists.\n",
    "\n",
    "Input:\n",
    "\n",
    "The only input line contains an integer n.\n",
    "\n",
    "Output:\n",
    "\n",
    "Print a beautiful permutation of integers 1,2,\\ldots,n. If there are several solutions, you may print any of them. If there are no solutions, print \"NO SOLUTION\".\n",
    "\n",
    "### Example 1\n",
    "Input:\n",
    "\n",
    "5\n",
    "\n",
    "Output:\n",
    "\n",
    "4 2 5 3 1\n",
    "\n",
    "### Example 2\n",
    "Input:\n",
    "\n",
    "3\n",
    "\n",
    "Output:\n",
    "\n",
    "NO SOLUTION"
   ]
  },
  {
   "cell_type": "code",
   "execution_count": null,
   "id": "b96e7f0f",
   "metadata": {},
   "outputs": [],
   "source": []
  }
 ],
 "metadata": {
  "language_info": {
   "name": "python"
  }
 },
 "nbformat": 4,
 "nbformat_minor": 5
}
