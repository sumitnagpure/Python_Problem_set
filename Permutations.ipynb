{
 "cells": [
  {
   "cell_type": "markdown",
   "id": "3c28880c",
   "metadata": {},
   "source": [
    "## Permutations"
   ]
  },
  {
   "cell_type": "markdown",
   "id": "92e4ca54",
   "metadata": {},
   "source": [
    "A permutation of integers 1,2,..,n is called beautiful if there are no adjacent elements whose difference is 1.\n",
    "Given n, construct a beautiful permutation if such a permutation exists.\n",
    "\n",
    "Input:\n",
    "\n",
    "The only input line contains an integer n.\n",
    "\n",
    "Output:\n",
    "\n",
    "Print a beautiful permutation of integers 1,2,...,n. If there are several solutions, you may print any of them. If there are no solutions, print \"NO SOLUTION\".\n",
    "\n",
    "### Example 1\n",
    "Input:\n",
    "\n",
    "5\n",
    "\n",
    "Output:\n",
    "\n",
    "4 2 5 3 1\n",
    "\n",
    "### Example 2\n",
    "Input:\n",
    "\n",
    "3\n",
    "\n",
    "Output:\n",
    "\n",
    "NO SOLUTION"
   ]
  },
  {
   "cell_type": "code",
   "execution_count": 8,
   "id": "b96e7f0f",
   "metadata": {},
   "outputs": [],
   "source": [
    "# Took some online help and realised the problem statement more clearly and need to use the concept of odd-even since it is very efficient\n",
    "#for n=4 [4,2,3,1]\n",
    "#for n=5 [4,2,5,3,1]\n",
    "#for n=6 [6,4,2,5,3,1]\n",
    "#even number differ by 2 and so do odd numbers, giving them one after the other will make this work."
   ]
  },
  {
   "cell_type": "code",
   "execution_count": 9,
   "id": "629371e2",
   "metadata": {},
   "outputs": [
    {
     "name": "stdout",
     "output_type": "stream",
     "text": [
      "4 2 5 3 1 "
     ]
    }
   ],
   "source": [
    "def permutations(n):\n",
    "    if n in [1,2,3]:\n",
    "        return \"NO SOLUTION\"\n",
    "\n",
    "    for i in range(n-1,0,-2): #even numbers\n",
    "        print(i, end=\" \")\n",
    "    for i in range(n,0,-2): #odd numbers\n",
    "        print(i, end=\" \")\n",
    "\n",
    "permutations(5)"
   ]
  },
  {
   "cell_type": "code",
   "execution_count": 10,
   "id": "1d545ebb",
   "metadata": {},
   "outputs": [],
   "source": [
    "def permutations_(n):\n",
    "    i=2\n",
    "    if n in [1,2,3]:\n",
    "        return \"NO SOLUTION\"\n",
    "    \n",
    "    while(i<=n): #even numbers\n",
    "        print(i, end=\" \")\n",
    "        i+=2\n",
    "    i=1\n",
    "    while(i<n): #odd numbers\n",
    "        print(i, end=\" \")\n",
    "        i+=2"
   ]
  },
  {
   "cell_type": "code",
   "execution_count": null,
   "id": "9558ad80",
   "metadata": {},
   "outputs": [],
   "source": []
  }
 ],
 "metadata": {
  "kernelspec": {
   "display_name": "Python 3",
   "language": "python",
   "name": "python3"
  },
  "language_info": {
   "codemirror_mode": {
    "name": "ipython",
    "version": 3
   },
   "file_extension": ".py",
   "mimetype": "text/x-python",
   "name": "python",
   "nbconvert_exporter": "python",
   "pygments_lexer": "ipython3",
   "version": "3.13.1"
  }
 },
 "nbformat": 4,
 "nbformat_minor": 5
}
