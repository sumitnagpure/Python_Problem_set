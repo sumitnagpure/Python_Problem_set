{
 "cells": [
  {
   "cell_type": "markdown",
   "id": "89200e29",
   "metadata": {},
   "source": [
    "Missing Number"
   ]
  },
  {
   "cell_type": "markdown",
   "id": "3f8f2026",
   "metadata": {},
   "source": [
    "You are given all numbers between 1,2,…,n except one. Your task is to find the missing number.\n",
    "\n",
    "Input:\n",
    "\n",
    "The first input line contains an integer n.\n",
    "\n",
    "The second line contains n − 1 numbers. Each number is distinct and between 1 and n(inclusive).\n",
    "\n",
    "Output:\n",
    "\n",
    "Print the missing number.\n",
    " \n",
    "Example\n",
    "\n",
    "Input:\n",
    "\n",
    "5\n",
    "\n",
    "2 3 1 5\n",
    "\n",
    "Output:\n",
    "\n",
    "4"
   ]
  },
  {
   "cell_type": "code",
   "execution_count": null,
   "id": "f58519a6",
   "metadata": {},
   "outputs": [
    {
     "name": "stdout",
     "output_type": "stream",
     "text": [
      "The missing number is 4.\n"
     ]
    }
   ],
   "source": [
    "# input->list, sum of list, actual sum\n",
    "# sum then minus the diff.\n",
    "n=int(input()) #integer n\n",
    "\n",
    "a=list(map(int,input().split())) #distinct input between 1 to n\n",
    "array_sum=0 #sum of array initialized to 0\n",
    "for i in range(n-1):\n",
    "    array_sum+=a[i]\n",
    "\n",
    "expected_sum=(n*(n+1))//2\n",
    "\n",
    "missing_number=expected_sum-array_sum\n",
    "print(f'The missing number is {missing_number}.')"
   ]
  }
 ],
 "metadata": {
  "kernelspec": {
   "display_name": "Python 3",
   "language": "python",
   "name": "python3"
  },
  "language_info": {
   "codemirror_mode": {
    "name": "ipython",
    "version": 3
   },
   "file_extension": ".py",
   "mimetype": "text/x-python",
   "name": "python",
   "nbconvert_exporter": "python",
   "pygments_lexer": "ipython3",
   "version": "3.13.1"
  }
 },
 "nbformat": 4,
 "nbformat_minor": 5
}
