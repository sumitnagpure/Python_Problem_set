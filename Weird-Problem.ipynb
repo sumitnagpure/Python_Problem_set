{
 "cells": [
  {
   "cell_type": "markdown",
   "id": "7a2f57e7",
   "metadata": {},
   "source": [
    "Weird Algorithm"
   ]
  },
  {
   "cell_type": "markdown",
   "id": "9855b57d",
   "metadata": {},
   "source": [
    "Consider an algorithm that takes as input a positive integer n. If n is even, the algorithm divides it by two, and if n is odd, the algorithm multiplies it by three and adds one. The algorithm repeats this, until n is one. For example, the sequence for n=3 is as follows:\n",
    "$$ 3 \\rightarrow 10 \\rightarrow 5 \\rightarrow 16 \\rightarrow 8 \\rightarrow 4 \\rightarrow 2 \\rightarrow 1$$\n",
    "Your task is to simulate the execution of the algorithm for a given value of n.\n",
    "Input\n",
    "The only input line contains an integer n.\n",
    "Output\n",
    "Print a line that contains all values of n during the algorithm.\n",
    "\n",
    "Example\n",
    "Input:\n",
    "3\n",
    "\n",
    "Output:\n",
    "3 10 5 16 8 4 2 1"
   ]
  },
  {
   "cell_type": "code",
   "execution_count": 1,
   "id": "32de53dd",
   "metadata": {},
   "outputs": [
    {
     "name": "stdout",
     "output_type": "stream",
     "text": [
      "3 10 5 16 8 4 2 "
     ]
    }
   ],
   "source": [
    "def solve(a):\n",
    "    while(a!=1):\n",
    "        print(a, end=\" \")\n",
    "        a= a//2 if a%2==0 else a*3+1\n",
    "\n",
    "solve(3)"
   ]
  },
  {
   "cell_type": "code",
   "execution_count": null,
   "id": "ac773a86",
   "metadata": {},
   "outputs": [],
   "source": []
  }
 ],
 "metadata": {
  "kernelspec": {
   "display_name": "Python 3",
   "language": "python",
   "name": "python3"
  },
  "language_info": {
   "codemirror_mode": {
    "name": "ipython",
    "version": 3
   },
   "file_extension": ".py",
   "mimetype": "text/x-python",
   "name": "python",
   "nbconvert_exporter": "python",
   "pygments_lexer": "ipython3",
   "version": "3.13.1"
  }
 },
 "nbformat": 4,
 "nbformat_minor": 5
}
